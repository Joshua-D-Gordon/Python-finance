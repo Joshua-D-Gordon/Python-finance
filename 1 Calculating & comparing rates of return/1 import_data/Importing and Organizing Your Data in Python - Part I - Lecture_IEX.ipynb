{
 "cells": [
  {
   "cell_type": "code",
   "execution_count": 1,
   "metadata": {},
   "outputs": [],
   "source": [
    "import numpy as np\n",
    "import pandas as pd"
   ]
  },
  {
   "cell_type": "code",
   "execution_count": 2,
   "metadata": {},
   "outputs": [],
   "source": [
    "ser = pd.Series(np.random.random(5), name = \"Column 01\")"
   ]
  },
  {
   "cell_type": "code",
   "execution_count": 3,
   "metadata": {},
   "outputs": [
    {
     "data": {
      "text/plain": [
       "0    0.807029\n",
       "1    0.066697\n",
       "2    0.313883\n",
       "3    0.249309\n",
       "4    0.553280\n",
       "Name: Column 01, dtype: float64"
      ]
     },
     "execution_count": 3,
     "metadata": {},
     "output_type": "execute_result"
    }
   ],
   "source": [
    "ser"
   ]
  },
  {
   "cell_type": "code",
   "execution_count": 4,
   "metadata": {},
   "outputs": [
    {
     "data": {
      "text/plain": [
       "0.3138831048791625"
      ]
     },
     "execution_count": 4,
     "metadata": {},
     "output_type": "execute_result"
    }
   ],
   "source": [
    "ser[2]"
   ]
  },
  {
   "cell_type": "code",
   "execution_count": 27,
   "metadata": {},
   "outputs": [],
   "source": [
    "from pandas_datareader import data as pdr\n",
    "import datetime\n",
    "import yfinance as yf"
   ]
  },
  {
   "cell_type": "code",
   "execution_count": 31,
   "metadata": {},
   "outputs": [
    {
     "name": "stdout",
     "output_type": "stream",
     "text": [
      "[*********************100%***********************]  1 of 1 completed\n"
     ]
    }
   ],
   "source": [
    "yf.pdr_override()\n",
    "\n",
    "start = datetime.datetime(2018, 1, 1).date()\n",
    "\n",
    "#Shopify\n",
    "data = pdr.get_data_yahoo('SHOP',start=start)\n",
    "\n"
   ]
  },
  {
   "cell_type": "code",
   "execution_count": 32,
   "metadata": {},
   "outputs": [
    {
     "data": {
      "text/html": [
       "<div>\n",
       "<style scoped>\n",
       "    .dataframe tbody tr th:only-of-type {\n",
       "        vertical-align: middle;\n",
       "    }\n",
       "\n",
       "    .dataframe tbody tr th {\n",
       "        vertical-align: top;\n",
       "    }\n",
       "\n",
       "    .dataframe thead th {\n",
       "        text-align: right;\n",
       "    }\n",
       "</style>\n",
       "<table border=\"1\" class=\"dataframe\">\n",
       "  <thead>\n",
       "    <tr style=\"text-align: right;\">\n",
       "      <th></th>\n",
       "      <th>Open</th>\n",
       "      <th>High</th>\n",
       "      <th>Low</th>\n",
       "      <th>Close</th>\n",
       "      <th>Adj Close</th>\n",
       "      <th>Volume</th>\n",
       "    </tr>\n",
       "    <tr>\n",
       "      <th>Date</th>\n",
       "      <th></th>\n",
       "      <th></th>\n",
       "      <th></th>\n",
       "      <th></th>\n",
       "      <th></th>\n",
       "      <th></th>\n",
       "    </tr>\n",
       "  </thead>\n",
       "  <tbody>\n",
       "    <tr>\n",
       "      <th>2018-01-02</th>\n",
       "      <td>10.159000</td>\n",
       "      <td>10.572000</td>\n",
       "      <td>10.102000</td>\n",
       "      <td>10.549000</td>\n",
       "      <td>10.549000</td>\n",
       "      <td>13945000</td>\n",
       "    </tr>\n",
       "    <tr>\n",
       "      <th>2018-01-03</th>\n",
       "      <td>10.636000</td>\n",
       "      <td>10.812000</td>\n",
       "      <td>10.617000</td>\n",
       "      <td>10.775000</td>\n",
       "      <td>10.775000</td>\n",
       "      <td>11627000</td>\n",
       "    </tr>\n",
       "    <tr>\n",
       "      <th>2018-01-04</th>\n",
       "      <td>10.833000</td>\n",
       "      <td>11.006000</td>\n",
       "      <td>10.721000</td>\n",
       "      <td>10.995000</td>\n",
       "      <td>10.995000</td>\n",
       "      <td>11610000</td>\n",
       "    </tr>\n",
       "    <tr>\n",
       "      <th>2018-01-05</th>\n",
       "      <td>11.055000</td>\n",
       "      <td>11.177000</td>\n",
       "      <td>10.902000</td>\n",
       "      <td>11.058000</td>\n",
       "      <td>11.058000</td>\n",
       "      <td>7710000</td>\n",
       "    </tr>\n",
       "    <tr>\n",
       "      <th>2018-01-08</th>\n",
       "      <td>10.999000</td>\n",
       "      <td>11.269000</td>\n",
       "      <td>10.999000</td>\n",
       "      <td>11.235000</td>\n",
       "      <td>11.235000</td>\n",
       "      <td>7487000</td>\n",
       "    </tr>\n",
       "    <tr>\n",
       "      <th>...</th>\n",
       "      <td>...</td>\n",
       "      <td>...</td>\n",
       "      <td>...</td>\n",
       "      <td>...</td>\n",
       "      <td>...</td>\n",
       "      <td>...</td>\n",
       "    </tr>\n",
       "    <tr>\n",
       "      <th>2023-07-14</th>\n",
       "      <td>70.610001</td>\n",
       "      <td>71.430000</td>\n",
       "      <td>68.419998</td>\n",
       "      <td>68.449997</td>\n",
       "      <td>68.449997</td>\n",
       "      <td>12088500</td>\n",
       "    </tr>\n",
       "    <tr>\n",
       "      <th>2023-07-17</th>\n",
       "      <td>68.599998</td>\n",
       "      <td>69.889999</td>\n",
       "      <td>67.870003</td>\n",
       "      <td>68.680000</td>\n",
       "      <td>68.680000</td>\n",
       "      <td>9671300</td>\n",
       "    </tr>\n",
       "    <tr>\n",
       "      <th>2023-07-18</th>\n",
       "      <td>68.459999</td>\n",
       "      <td>68.459999</td>\n",
       "      <td>65.250000</td>\n",
       "      <td>67.260002</td>\n",
       "      <td>67.260002</td>\n",
       "      <td>14982000</td>\n",
       "    </tr>\n",
       "    <tr>\n",
       "      <th>2023-07-19</th>\n",
       "      <td>67.879997</td>\n",
       "      <td>69.129997</td>\n",
       "      <td>67.410004</td>\n",
       "      <td>68.230003</td>\n",
       "      <td>68.230003</td>\n",
       "      <td>9139300</td>\n",
       "    </tr>\n",
       "    <tr>\n",
       "      <th>2023-07-20</th>\n",
       "      <td>67.269997</td>\n",
       "      <td>68.267799</td>\n",
       "      <td>65.029999</td>\n",
       "      <td>65.440002</td>\n",
       "      <td>65.440002</td>\n",
       "      <td>10490229</td>\n",
       "    </tr>\n",
       "  </tbody>\n",
       "</table>\n",
       "<p>1396 rows × 6 columns</p>\n",
       "</div>"
      ],
      "text/plain": [
       "                 Open       High        Low      Close  Adj Close    Volume\n",
       "Date                                                                       \n",
       "2018-01-02  10.159000  10.572000  10.102000  10.549000  10.549000  13945000\n",
       "2018-01-03  10.636000  10.812000  10.617000  10.775000  10.775000  11627000\n",
       "2018-01-04  10.833000  11.006000  10.721000  10.995000  10.995000  11610000\n",
       "2018-01-05  11.055000  11.177000  10.902000  11.058000  11.058000   7710000\n",
       "2018-01-08  10.999000  11.269000  10.999000  11.235000  11.235000   7487000\n",
       "...               ...        ...        ...        ...        ...       ...\n",
       "2023-07-14  70.610001  71.430000  68.419998  68.449997  68.449997  12088500\n",
       "2023-07-17  68.599998  69.889999  67.870003  68.680000  68.680000   9671300\n",
       "2023-07-18  68.459999  68.459999  65.250000  67.260002  67.260002  14982000\n",
       "2023-07-19  67.879997  69.129997  67.410004  68.230003  68.230003   9139300\n",
       "2023-07-20  67.269997  68.267799  65.029999  65.440002  65.440002  10490229\n",
       "\n",
       "[1396 rows x 6 columns]"
      ]
     },
     "execution_count": 32,
     "metadata": {},
     "output_type": "execute_result"
    }
   ],
   "source": [
    "data"
   ]
  },
  {
   "cell_type": "code",
   "execution_count": 33,
   "metadata": {},
   "outputs": [
    {
     "name": "stdout",
     "output_type": "stream",
     "text": [
      "<class 'pandas.core.frame.DataFrame'>\n",
      "DatetimeIndex: 1396 entries, 2018-01-02 to 2023-07-20\n",
      "Data columns (total 6 columns):\n",
      " #   Column     Non-Null Count  Dtype  \n",
      "---  ------     --------------  -----  \n",
      " 0   Open       1396 non-null   float64\n",
      " 1   High       1396 non-null   float64\n",
      " 2   Low        1396 non-null   float64\n",
      " 3   Close      1396 non-null   float64\n",
      " 4   Adj Close  1396 non-null   float64\n",
      " 5   Volume     1396 non-null   int64  \n",
      "dtypes: float64(5), int64(1)\n",
      "memory usage: 76.3 KB\n"
     ]
    }
   ],
   "source": [
    "data.info()"
   ]
  },
  {
   "cell_type": "code",
   "execution_count": 34,
   "metadata": {},
   "outputs": [
    {
     "data": {
      "text/html": [
       "<div>\n",
       "<style scoped>\n",
       "    .dataframe tbody tr th:only-of-type {\n",
       "        vertical-align: middle;\n",
       "    }\n",
       "\n",
       "    .dataframe tbody tr th {\n",
       "        vertical-align: top;\n",
       "    }\n",
       "\n",
       "    .dataframe thead th {\n",
       "        text-align: right;\n",
       "    }\n",
       "</style>\n",
       "<table border=\"1\" class=\"dataframe\">\n",
       "  <thead>\n",
       "    <tr style=\"text-align: right;\">\n",
       "      <th></th>\n",
       "      <th>Open</th>\n",
       "      <th>High</th>\n",
       "      <th>Low</th>\n",
       "      <th>Close</th>\n",
       "      <th>Adj Close</th>\n",
       "      <th>Volume</th>\n",
       "    </tr>\n",
       "    <tr>\n",
       "      <th>Date</th>\n",
       "      <th></th>\n",
       "      <th></th>\n",
       "      <th></th>\n",
       "      <th></th>\n",
       "      <th></th>\n",
       "      <th></th>\n",
       "    </tr>\n",
       "  </thead>\n",
       "  <tbody>\n",
       "    <tr>\n",
       "      <th>2018-01-02</th>\n",
       "      <td>10.159</td>\n",
       "      <td>10.572</td>\n",
       "      <td>10.102</td>\n",
       "      <td>10.549</td>\n",
       "      <td>10.549</td>\n",
       "      <td>13945000</td>\n",
       "    </tr>\n",
       "    <tr>\n",
       "      <th>2018-01-03</th>\n",
       "      <td>10.636</td>\n",
       "      <td>10.812</td>\n",
       "      <td>10.617</td>\n",
       "      <td>10.775</td>\n",
       "      <td>10.775</td>\n",
       "      <td>11627000</td>\n",
       "    </tr>\n",
       "    <tr>\n",
       "      <th>2018-01-04</th>\n",
       "      <td>10.833</td>\n",
       "      <td>11.006</td>\n",
       "      <td>10.721</td>\n",
       "      <td>10.995</td>\n",
       "      <td>10.995</td>\n",
       "      <td>11610000</td>\n",
       "    </tr>\n",
       "    <tr>\n",
       "      <th>2018-01-05</th>\n",
       "      <td>11.055</td>\n",
       "      <td>11.177</td>\n",
       "      <td>10.902</td>\n",
       "      <td>11.058</td>\n",
       "      <td>11.058</td>\n",
       "      <td>7710000</td>\n",
       "    </tr>\n",
       "    <tr>\n",
       "      <th>2018-01-08</th>\n",
       "      <td>10.999</td>\n",
       "      <td>11.269</td>\n",
       "      <td>10.999</td>\n",
       "      <td>11.235</td>\n",
       "      <td>11.235</td>\n",
       "      <td>7487000</td>\n",
       "    </tr>\n",
       "  </tbody>\n",
       "</table>\n",
       "</div>"
      ],
      "text/plain": [
       "              Open    High     Low   Close  Adj Close    Volume\n",
       "Date                                                           \n",
       "2018-01-02  10.159  10.572  10.102  10.549     10.549  13945000\n",
       "2018-01-03  10.636  10.812  10.617  10.775     10.775  11627000\n",
       "2018-01-04  10.833  11.006  10.721  10.995     10.995  11610000\n",
       "2018-01-05  11.055  11.177  10.902  11.058     11.058   7710000\n",
       "2018-01-08  10.999  11.269  10.999  11.235     11.235   7487000"
      ]
     },
     "execution_count": 34,
     "metadata": {},
     "output_type": "execute_result"
    }
   ],
   "source": [
    "data.head()"
   ]
  },
  {
   "cell_type": "code",
   "execution_count": 36,
   "metadata": {},
   "outputs": [
    {
     "name": "stdout",
     "output_type": "stream",
     "text": [
      "[*********************100%***********************]  1 of 1 completed\n",
      "[*********************100%***********************]  1 of 1 completed\n",
      "[*********************100%***********************]  1 of 1 completed\n",
      "[*********************100%***********************]  1 of 1 completed"
     ]
    },
    {
     "name": "stderr",
     "output_type": "stream",
     "text": [
      "\n",
      "1 Failed download:\n",
      "['APPL']: Exception('%ticker%: No price data found, symbol may be delisted (1d 2018-01-01 -> 2023-07-20)')\n"
     ]
    },
    {
     "name": "stdout",
     "output_type": "stream",
     "text": [
      "\n",
      "[*********************100%***********************]  1 of 1 completed\n",
      "[*********************100%***********************]  1 of 1 completed"
     ]
    },
    {
     "name": "stderr",
     "output_type": "stream",
     "text": [
      "\n",
      "1 Failed download:\n",
      "['ZOOM']: Exception('%ticker%: No timezone found, symbol may be delisted')\n"
     ]
    },
    {
     "name": "stdout",
     "output_type": "stream",
     "text": [
      "\n"
     ]
    }
   ],
   "source": [
    "yf.pdr_override()\n",
    "tickers = ['SHOP','TSLA','APPL','AMZN','ZOOM']\n",
    "new_data = pd.DataFrame()\n",
    "\n",
    "\n",
    "start = datetime.datetime(2018, 1, 1).date()\n",
    "\n",
    "\n",
    "data = pdr.get_data_yahoo('SHOP',start=start)\n",
    "for symb in tickers:\n",
    "    new_data[symb] = pdr.get_data_yahoo('{}'.format(symb),start=start)['Adj Close']"
   ]
  },
  {
   "cell_type": "code",
   "execution_count": 38,
   "metadata": {},
   "outputs": [
    {
     "data": {
      "text/html": [
       "<div>\n",
       "<style scoped>\n",
       "    .dataframe tbody tr th:only-of-type {\n",
       "        vertical-align: middle;\n",
       "    }\n",
       "\n",
       "    .dataframe tbody tr th {\n",
       "        vertical-align: top;\n",
       "    }\n",
       "\n",
       "    .dataframe thead th {\n",
       "        text-align: right;\n",
       "    }\n",
       "</style>\n",
       "<table border=\"1\" class=\"dataframe\">\n",
       "  <thead>\n",
       "    <tr style=\"text-align: right;\">\n",
       "      <th></th>\n",
       "      <th>SHOP</th>\n",
       "      <th>TSLA</th>\n",
       "      <th>APPL</th>\n",
       "      <th>AMZN</th>\n",
       "      <th>ZOOM</th>\n",
       "    </tr>\n",
       "    <tr>\n",
       "      <th>Date</th>\n",
       "      <th></th>\n",
       "      <th></th>\n",
       "      <th></th>\n",
       "      <th></th>\n",
       "      <th></th>\n",
       "    </tr>\n",
       "  </thead>\n",
       "  <tbody>\n",
       "    <tr>\n",
       "      <th>2018-01-02</th>\n",
       "      <td>10.549</td>\n",
       "      <td>21.368668</td>\n",
       "      <td>NaN</td>\n",
       "      <td>59.450500</td>\n",
       "      <td>NaN</td>\n",
       "    </tr>\n",
       "    <tr>\n",
       "      <th>2018-01-03</th>\n",
       "      <td>10.775</td>\n",
       "      <td>21.150000</td>\n",
       "      <td>NaN</td>\n",
       "      <td>60.209999</td>\n",
       "      <td>NaN</td>\n",
       "    </tr>\n",
       "    <tr>\n",
       "      <th>2018-01-04</th>\n",
       "      <td>10.995</td>\n",
       "      <td>20.974667</td>\n",
       "      <td>NaN</td>\n",
       "      <td>60.479500</td>\n",
       "      <td>NaN</td>\n",
       "    </tr>\n",
       "    <tr>\n",
       "      <th>2018-01-05</th>\n",
       "      <td>11.058</td>\n",
       "      <td>21.105333</td>\n",
       "      <td>NaN</td>\n",
       "      <td>61.457001</td>\n",
       "      <td>NaN</td>\n",
       "    </tr>\n",
       "    <tr>\n",
       "      <th>2018-01-08</th>\n",
       "      <td>11.235</td>\n",
       "      <td>22.427334</td>\n",
       "      <td>NaN</td>\n",
       "      <td>62.343498</td>\n",
       "      <td>NaN</td>\n",
       "    </tr>\n",
       "  </tbody>\n",
       "</table>\n",
       "</div>"
      ],
      "text/plain": [
       "              SHOP       TSLA  APPL       AMZN  ZOOM\n",
       "Date                                                \n",
       "2018-01-02  10.549  21.368668   NaN  59.450500   NaN\n",
       "2018-01-03  10.775  21.150000   NaN  60.209999   NaN\n",
       "2018-01-04  10.995  20.974667   NaN  60.479500   NaN\n",
       "2018-01-05  11.058  21.105333   NaN  61.457001   NaN\n",
       "2018-01-08  11.235  22.427334   NaN  62.343498   NaN"
      ]
     },
     "execution_count": 38,
     "metadata": {},
     "output_type": "execute_result"
    }
   ],
   "source": [
    "#ajusted closing prices for the stocks shopify, apple, tesla, amazon and zoom\n",
    "new_data.head()"
   ]
  }
 ],
 "metadata": {
  "kernelspec": {
   "display_name": "Python 3",
   "language": "python",
   "name": "python3"
  },
  "language_info": {
   "codemirror_mode": {
    "name": "ipython",
    "version": 3
   },
   "file_extension": ".py",
   "mimetype": "text/x-python",
   "name": "python",
   "nbconvert_exporter": "python",
   "pygments_lexer": "ipython3",
   "version": "3.10.6"
  }
 },
 "nbformat": 4,
 "nbformat_minor": 2
}
