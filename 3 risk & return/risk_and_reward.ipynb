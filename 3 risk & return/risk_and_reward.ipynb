{
 "cells": [
  {
   "cell_type": "markdown",
   "metadata": {},
   "source": [
    "## Risk & reward part 2"
   ]
  },
  {
   "cell_type": "markdown",
   "metadata": {},
   "source": [
    "#### bonds\n",
    "3% return\n",
    "low risk\n",
    "initial investment plus intrest\n",
    "\n",
    "#### stocks\n",
    "6%\n",
    "high volitilty\n",
    "price change\n",
    "\n",
    "#### make informed desicions"
   ]
  },
  {
   "cell_type": "markdown",
   "metadata": {},
   "source": [
    "# up next\n",
    "### return on single security\n",
    "### return on portfolio\n",
    "### risk, std, variance, correlation vs covariance"
   ]
  },
  {
   "cell_type": "code",
   "execution_count": 1,
   "metadata": {},
   "outputs": [
    {
     "name": "stdout",
     "output_type": "stream",
     "text": [
      "0.16\n"
     ]
    }
   ],
   "source": [
    "# rate of return\n",
    "sell_price = 116\n",
    "buy_price = 100\n",
    "simple_return = (sell_price - buy_price)/buy_price # simple rate of return\n",
    "print(simple_return)\n",
    "#16% return"
   ]
  },
  {
   "cell_type": "code",
   "execution_count": 9,
   "metadata": {},
   "outputs": [
    {
     "name": "stdout",
     "output_type": "stream",
     "text": [
      "0.1484200051182727\n"
     ]
    }
   ],
   "source": [
    "import math\n",
    "log_return = math.log(sell_price) - math.log(buy_price)\n",
    "print(log_return)\n",
    "#lof reeturn on investment"
   ]
  },
  {
   "cell_type": "code",
   "execution_count": 13,
   "metadata": {},
   "outputs": [],
   "source": [
    "#timeframe of rates of returns\n",
    "#annually , monthly , daily ect...\n",
    "dayily_return = 0.02\n",
    "anunual_return = (math.pow(dayily_return + 1,365)*100 -1)\n"
   ]
  },
  {
   "cell_type": "code",
   "execution_count": 14,
   "metadata": {},
   "outputs": [
    {
     "data": {
      "text/plain": [
       "137739.8291966077"
      ]
     },
     "execution_count": 14,
     "metadata": {},
     "output_type": "execute_result"
    }
   ],
   "source": [
    "anunual_return\n",
    "#2% daily returns 365 days = a year , unreasanoble"
   ]
  },
  {
   "cell_type": "code",
   "execution_count": 18,
   "metadata": {},
   "outputs": [
    {
     "name": "stdout",
     "output_type": "stream",
     "text": [
      "62.545809273134914\n"
     ]
    }
   ],
   "source": [
    "USD = 100\n",
    "CARD_FEES = 0.015 #1.5% credit card fee\n",
    "\n",
    "Hands_changed = 30\n",
    "\n",
    "money_left = math.pow(CARD_FEES + 1,Hands_changed)*100 - 1\n",
    "\n",
    "print(money_left)"
   ]
  }
 ],
 "metadata": {
  "kernelspec": {
   "display_name": "Python 3",
   "language": "python",
   "name": "python3"
  },
  "language_info": {
   "codemirror_mode": {
    "name": "ipython",
    "version": 3
   },
   "file_extension": ".py",
   "mimetype": "text/x-python",
   "name": "python",
   "nbconvert_exporter": "python",
   "pygments_lexer": "ipython3",
   "version": "3.10.6"
  }
 },
 "nbformat": 4,
 "nbformat_minor": 2
}
